{
 "cells": [
  {
   "cell_type": "code",
   "execution_count": 1,
   "id": "aa2aee0d-12f3-43d6-8182-8b404ff7cb70",
   "metadata": {},
   "outputs": [],
   "source": [
    "#导入数据处理的基础包\n",
    "import numpy as np\n",
    "import pandas as pd\n",
    "#导入用于计数的包\n",
    "from collections import Counter\n",
    "import os\n",
    "import requests"
   ]
  },
  {
   "cell_type": "code",
   "execution_count": 2,
   "id": "2e0c186e-6b69-4506-bec9-9a7eab396673",
   "metadata": {},
   "outputs": [
    {
     "name": "stdout",
     "output_type": "stream",
     "text": [
      "<class 'pandas.core.frame.DataFrame'>\n",
      "RangeIndex: 11996 entries, 0 to 11995\n",
      "Data columns (total 2 columns):\n",
      " #   Column  Non-Null Count  Dtype \n",
      "---  ------  --------------  ----- \n",
      " 0   评论      11996 non-null  object\n",
      " 1   评分      11996 non-null  int64 \n",
      "dtypes: int64(1), object(1)\n",
      "memory usage: 187.6+ KB\n",
      "None\n",
      "(11996, 2)\n",
      "Index(['评论', '评分'], dtype='object')\n"
     ]
    }
   ],
   "source": [
    "#读取数据\n",
    "#路径是各自数据路径的存放地址\n",
    "data = pd.read_csv('JDcontents_vivo.csv',encoding=\"gbk\")\n",
    "#输出数据的一些相关信息\n",
    "print(data.info())\n",
    "#看数据形状 (行数, 列数)\n",
    "print(data.shape)\n",
    "# 列标签 <Index>\n",
    "print(data.columns)"
   ]
  },
  {
   "cell_type": "code",
   "execution_count": 3,
   "id": "be203acb-1ec5-4fd4-b4e9-845a0843f34e",
   "metadata": {},
   "outputs": [
    {
     "data": {
      "text/html": [
       "<div>\n",
       "<style scoped>\n",
       "    .dataframe tbody tr th:only-of-type {\n",
       "        vertical-align: middle;\n",
       "    }\n",
       "\n",
       "    .dataframe tbody tr th {\n",
       "        vertical-align: top;\n",
       "    }\n",
       "\n",
       "    .dataframe thead th {\n",
       "        text-align: right;\n",
       "    }\n",
       "</style>\n",
       "<table border=\"1\" class=\"dataframe\">\n",
       "  <thead>\n",
       "    <tr style=\"text-align: right;\">\n",
       "      <th></th>\n",
       "      <th>评论</th>\n",
       "      <th>评分</th>\n",
       "    </tr>\n",
       "  </thead>\n",
       "  <tbody>\n",
       "    <tr>\n",
       "      <th>11991</th>\n",
       "      <td>包装很漂亮，看起来高端大气上档次，比某米看起来档次高</td>\n",
       "      <td>5</td>\n",
       "    </tr>\n",
       "    <tr>\n",
       "      <th>11992</th>\n",
       "      <td>外形外观：不错  屏幕音效：不错拍照效果：还行运行速度：刚刚的</td>\n",
       "      <td>5</td>\n",
       "    </tr>\n",
       "    <tr>\n",
       "      <th>11993</th>\n",
       "      <td>手机不错，1199买的，618活动1299，619凌晨0点降价100，。。。然后保价，赠品变...</td>\n",
       "      <td>5</td>\n",
       "    </tr>\n",
       "    <tr>\n",
       "      <th>11994</th>\n",
       "      <td>是1049</td>\n",
       "      <td>5</td>\n",
       "    </tr>\n",
       "    <tr>\n",
       "      <th>11995</th>\n",
       "      <td>正品IQoo，手机颜色好看很好看，运行速度快，价格实惠。拍照清晰解锁快。价格实惠屏幕显示清晰...</td>\n",
       "      <td>5</td>\n",
       "    </tr>\n",
       "  </tbody>\n",
       "</table>\n",
       "</div>"
      ],
      "text/plain": [
       "                                                      评论  评分\n",
       "11991                         包装很漂亮，看起来高端大气上档次，比某米看起来档次高   5\n",
       "11992                    外形外观：不错  屏幕音效：不错拍照效果：还行运行速度：刚刚的   5\n",
       "11993  手机不错，1199买的，618活动1299，619凌晨0点降价100，。。。然后保价，赠品变...   5\n",
       "11994                                              是1049   5\n",
       "11995  正品IQoo，手机颜色好看很好看，运行速度快，价格实惠。拍照清晰解锁快。价格实惠屏幕显示清晰...   5"
      ]
     },
     "execution_count": 3,
     "metadata": {},
     "output_type": "execute_result"
    }
   ],
   "source": [
    "#观察数据格式，分别查看data的前五条数据和后五条数据\n",
    "data.head()\n",
    "data.tail()"
   ]
  },
  {
   "cell_type": "code",
   "execution_count": 4,
   "id": "2df83fa1-548c-4bac-9d3e-91470f77dfa7",
   "metadata": {},
   "outputs": [],
   "source": [
    "#目的是将label的数值 -1 缩放到[0,4]之间\n",
    "def get_label(label):\n",
    "    label = label - 1\n",
    "    return label\n",
    "data[\"label\"] = data['评分'].apply(get_label)"
   ]
  },
  {
   "cell_type": "code",
   "execution_count": 5,
   "id": "3849c864-e27e-408c-9a58-8fa0f9077f30",
   "metadata": {},
   "outputs": [],
   "source": [
    "#按评论进行去重，对于重复项，保留第一次出现的值\n",
    "data = data.drop_duplicates('评论',keep='first')\n",
    "#会将标签重新从零开始顺序排序,使用参数设置drop=True删除旧的索引序列\n",
    "data = data.reset_index(drop=True)"
   ]
  },
  {
   "cell_type": "code",
   "execution_count": 6,
   "id": "5a39a14b-1a40-4d6d-8250-39ad9c90d66a",
   "metadata": {},
   "outputs": [],
   "source": [
    "# TODO1: 去掉一些无用的字符，自行定一个字符几何，并从文本中去掉\n",
    "#去除字母数字表情和其它字符\n",
    "import re\n",
    "def clear_character(sentence):\n",
    "    pattern1='[a-zA-Z0-9]'\n",
    "    pattern2 = re.compile(u'[^\\s1234567890:：' + '\\u4e00-\\u9fa5]+')\n",
    "    pattern3='[’!\"#$%&\\'()*+,-./:;<=>?@[\\\\]^_`{|}~]+'\n",
    "    line1=re.sub(pattern1,'',sentence)   #去除英文字母和数字\n",
    "    line2=re.sub(pattern2,'',line1)   #去除表情和其他字符\n",
    "    line3=re.sub(pattern3,'',line2)   #去除去掉残留的冒号及其它符号\n",
    "    new_sentence=''.join(line3.split()) #去除空白\n",
    "    return new_sentence"
   ]
  },
  {
   "cell_type": "code",
   "execution_count": 7,
   "id": "feb6524e-cf4c-4ad8-862b-841ca60361af",
   "metadata": {},
   "outputs": [
    {
     "data": {
      "text/html": [
       "<div>\n",
       "<style scoped>\n",
       "    .dataframe tbody tr th:only-of-type {\n",
       "        vertical-align: middle;\n",
       "    }\n",
       "\n",
       "    .dataframe tbody tr th {\n",
       "        vertical-align: top;\n",
       "    }\n",
       "\n",
       "    .dataframe thead th {\n",
       "        text-align: right;\n",
       "    }\n",
       "</style>\n",
       "<table border=\"1\" class=\"dataframe\">\n",
       "  <thead>\n",
       "    <tr style=\"text-align: right;\">\n",
       "      <th></th>\n",
       "      <th>评论</th>\n",
       "      <th>评分</th>\n",
       "      <th>label</th>\n",
       "      <th>comment_processed</th>\n",
       "    </tr>\n",
       "  </thead>\n",
       "  <tbody>\n",
       "    <tr>\n",
       "      <th>0</th>\n",
       "      <td>您没有填写内容，默认好评</td>\n",
       "      <td>1</td>\n",
       "      <td>0</td>\n",
       "      <td>您没有填写内容默认好评</td>\n",
       "    </tr>\n",
       "    <tr>\n",
       "      <th>1</th>\n",
       "      <td>充电慢，快递员也不好说话！</td>\n",
       "      <td>1</td>\n",
       "      <td>0</td>\n",
       "      <td>充电慢快递员也不好说话</td>\n",
       "    </tr>\n",
       "    <tr>\n",
       "      <th>2</th>\n",
       "      <td>价位比实体店还贵一百多</td>\n",
       "      <td>1</td>\n",
       "      <td>0</td>\n",
       "      <td>价位比实体店还贵一百多</td>\n",
       "    </tr>\n",
       "    <tr>\n",
       "      <th>3</th>\n",
       "      <td>说是送蓝牙耳机，结果也没送，问客服说送完了。</td>\n",
       "      <td>1</td>\n",
       "      <td>0</td>\n",
       "      <td>说是送蓝牙耳机结果也没送问客服说送完了</td>\n",
       "    </tr>\n",
       "    <tr>\n",
       "      <th>4</th>\n",
       "      <td>刚买就便宜120，又没价格保护</td>\n",
       "      <td>1</td>\n",
       "      <td>0</td>\n",
       "      <td>刚买就便宜又没价格保护</td>\n",
       "    </tr>\n",
       "  </tbody>\n",
       "</table>\n",
       "</div>"
      ],
      "text/plain": [
       "                       评论  评分  label    comment_processed\n",
       "0            您没有填写内容，默认好评   1      0          您没有填写内容默认好评\n",
       "1           充电慢，快递员也不好说话！   1      0          充电慢快递员也不好说话\n",
       "2             价位比实体店还贵一百多   1      0          价位比实体店还贵一百多\n",
       "3  说是送蓝牙耳机，结果也没送，问客服说送完了。   1      0  说是送蓝牙耳机结果也没送问客服说送完了\n",
       "4         刚买就便宜120，又没价格保护   1      0          刚买就便宜又没价格保护"
      ]
     },
     "execution_count": 7,
     "metadata": {},
     "output_type": "execute_result"
    }
   ],
   "source": [
    "#在[\"评论\"]这一列使用定义的\"clear_character\"函数\n",
    "data[\"comment_processed\"]=data['评论'].apply(clear_character)\n",
    "data.head()"
   ]
  },
  {
   "cell_type": "code",
   "execution_count": 9,
   "id": "14982864-464b-4216-b36a-ef90e82b2b5c",
   "metadata": {},
   "outputs": [
    {
     "name": "stderr",
     "output_type": "stream",
     "text": [
      "apply:   0%|                                                                                                                                                                                                     | 0/7449 [00:00<?, ?it/s]Building prefix dict from the default dictionary ...\n",
      "Dumping model to file cache C:\\Users\\12722\\AppData\\Local\\Temp\\jieba.cache\n",
      "Loading model cost 0.759 seconds.\n",
      "Prefix dict has been built successfully.\n",
      "apply: 100%|████████████████████████████████████████████████████████████████████████████████████████████████████████████████████████████████████████████████████████████████████████████████████████| 7449/7449 [00:02<00:00, 3163.26it/s]\n"
     ]
    },
    {
     "data": {
      "text/html": [
       "<div>\n",
       "<style scoped>\n",
       "    .dataframe tbody tr th:only-of-type {\n",
       "        vertical-align: middle;\n",
       "    }\n",
       "\n",
       "    .dataframe tbody tr th {\n",
       "        vertical-align: top;\n",
       "    }\n",
       "\n",
       "    .dataframe thead th {\n",
       "        text-align: right;\n",
       "    }\n",
       "</style>\n",
       "<table border=\"1\" class=\"dataframe\">\n",
       "  <thead>\n",
       "    <tr style=\"text-align: right;\">\n",
       "      <th></th>\n",
       "      <th>评论</th>\n",
       "      <th>评分</th>\n",
       "      <th>label</th>\n",
       "      <th>comment_processed</th>\n",
       "    </tr>\n",
       "  </thead>\n",
       "  <tbody>\n",
       "    <tr>\n",
       "      <th>0</th>\n",
       "      <td>您没有填写内容，默认好评</td>\n",
       "      <td>1</td>\n",
       "      <td>0</td>\n",
       "      <td>[您, 没有, 填写内容, 默认, 好评]</td>\n",
       "    </tr>\n",
       "    <tr>\n",
       "      <th>1</th>\n",
       "      <td>充电慢，快递员也不好说话！</td>\n",
       "      <td>1</td>\n",
       "      <td>0</td>\n",
       "      <td>[充电, 慢, 快递, 员, 也, 不好, 说话]</td>\n",
       "    </tr>\n",
       "    <tr>\n",
       "      <th>2</th>\n",
       "      <td>价位比实体店还贵一百多</td>\n",
       "      <td>1</td>\n",
       "      <td>0</td>\n",
       "      <td>[价位, 比, 实体店, 还贵, 一百多]</td>\n",
       "    </tr>\n",
       "    <tr>\n",
       "      <th>3</th>\n",
       "      <td>说是送蓝牙耳机，结果也没送，问客服说送完了。</td>\n",
       "      <td>1</td>\n",
       "      <td>0</td>\n",
       "      <td>[说, 是, 送, 蓝牙, 耳机, 结果, 也, 没, 送, 问, 客服, 说, 送, 完, 了]</td>\n",
       "    </tr>\n",
       "    <tr>\n",
       "      <th>4</th>\n",
       "      <td>刚买就便宜120，又没价格保护</td>\n",
       "      <td>1</td>\n",
       "      <td>0</td>\n",
       "      <td>[刚买, 就, 便宜, 又, 没, 价格, 保护]</td>\n",
       "    </tr>\n",
       "  </tbody>\n",
       "</table>\n",
       "</div>"
      ],
      "text/plain": [
       "                       评论  评分  label  \\\n",
       "0            您没有填写内容，默认好评   1      0   \n",
       "1           充电慢，快递员也不好说话！   1      0   \n",
       "2             价位比实体店还贵一百多   1      0   \n",
       "3  说是送蓝牙耳机，结果也没送，问客服说送完了。   1      0   \n",
       "4         刚买就便宜120，又没价格保护   1      0   \n",
       "\n",
       "                                   comment_processed  \n",
       "0                              [您, 没有, 填写内容, 默认, 好评]  \n",
       "1                          [充电, 慢, 快递, 员, 也, 不好, 说话]  \n",
       "2                              [价位, 比, 实体店, 还贵, 一百多]  \n",
       "3  [说, 是, 送, 蓝牙, 耳机, 结果, 也, 没, 送, 问, 客服, 说, 送, 完, 了]  \n",
       "4                          [刚买, 就, 便宜, 又, 没, 价格, 保护]  "
      ]
     },
     "execution_count": 9,
     "metadata": {},
     "output_type": "execute_result"
    }
   ],
   "source": [
    "# 导入中文分词包jieba, 并用jieba对原始文本做分词\n",
    "import jieba\n",
    "from tqdm import tqdm\n",
    "def comment_cut(content):\n",
    "    # TODO: 使用结巴完成对每一个comment的分词\n",
    "#     seg = jieba.lcut(content)\n",
    "    seg = list(jieba.cut(content.strip()))\n",
    "    return seg\n",
    "# 输出进度条\n",
    "tqdm.pandas(desc='apply')\n",
    "data['comment_processed'] = data['comment_processed'].progress_apply(comment_cut)\n",
    "# 观察新的数据的格式\n",
    "data.head()"
   ]
  },
  {
   "cell_type": "code",
   "execution_count": 26,
   "id": "0920f0b1-89ab-4680-be4d-a1f439cb6bcb",
   "metadata": {},
   "outputs": [
    {
     "name": "stderr",
     "output_type": "stream",
     "text": [
      "apply: 100%|████████████████████████████████████████████████████████████████████████████████████████████████████████████████████████████████████████████████████████████████████████████████████████| 7449/7449 [00:02<00:00, 3466.41it/s]\n"
     ]
    },
    {
     "data": {
      "text/html": [
       "<div>\n",
       "<style scoped>\n",
       "    .dataframe tbody tr th:only-of-type {\n",
       "        vertical-align: middle;\n",
       "    }\n",
       "\n",
       "    .dataframe tbody tr th {\n",
       "        vertical-align: top;\n",
       "    }\n",
       "\n",
       "    .dataframe thead th {\n",
       "        text-align: right;\n",
       "    }\n",
       "</style>\n",
       "<table border=\"1\" class=\"dataframe\">\n",
       "  <thead>\n",
       "    <tr style=\"text-align: right;\">\n",
       "      <th></th>\n",
       "      <th>评论</th>\n",
       "      <th>评分</th>\n",
       "      <th>label</th>\n",
       "      <th>comment_processed</th>\n",
       "    </tr>\n",
       "  </thead>\n",
       "  <tbody>\n",
       "    <tr>\n",
       "      <th>0</th>\n",
       "      <td>您没有填写内容，默认好评</td>\n",
       "      <td>1</td>\n",
       "      <td>0</td>\n",
       "      <td>[没有, 填写内容, 默认, 好评]</td>\n",
       "    </tr>\n",
       "    <tr>\n",
       "      <th>1</th>\n",
       "      <td>充电慢，快递员也不好说话！</td>\n",
       "      <td>1</td>\n",
       "      <td>0</td>\n",
       "      <td>[充电, 慢, 快递, 员, 不好, 说话]</td>\n",
       "    </tr>\n",
       "    <tr>\n",
       "      <th>2</th>\n",
       "      <td>价位比实体店还贵一百多</td>\n",
       "      <td>1</td>\n",
       "      <td>0</td>\n",
       "      <td>[价位, 实体店, 还贵, 一百多]</td>\n",
       "    </tr>\n",
       "    <tr>\n",
       "      <th>3</th>\n",
       "      <td>说是送蓝牙耳机，结果也没送，问客服说送完了。</td>\n",
       "      <td>1</td>\n",
       "      <td>0</td>\n",
       "      <td>[说, 送, 蓝牙, 耳机, 没, 送, 问, 客服, 说, 送, 完]</td>\n",
       "    </tr>\n",
       "    <tr>\n",
       "      <th>4</th>\n",
       "      <td>刚买就便宜120，又没价格保护</td>\n",
       "      <td>1</td>\n",
       "      <td>0</td>\n",
       "      <td>[刚买, 便宜, 没, 价格, 保护]</td>\n",
       "    </tr>\n",
       "  </tbody>\n",
       "</table>\n",
       "</div>"
      ],
      "text/plain": [
       "                       评论  评分  label                     comment_processed\n",
       "0            您没有填写内容，默认好评   1      0                    [没有, 填写内容, 默认, 好评]\n",
       "1           充电慢，快递员也不好说话！   1      0                [充电, 慢, 快递, 员, 不好, 说话]\n",
       "2             价位比实体店还贵一百多   1      0                    [价位, 实体店, 还贵, 一百多]\n",
       "3  说是送蓝牙耳机，结果也没送，问客服说送完了。   1      0  [说, 送, 蓝牙, 耳机, 没, 送, 问, 客服, 说, 送, 完]\n",
       "4         刚买就便宜120，又没价格保护   1      0                   [刚买, 便宜, 没, 价格, 保护]"
      ]
     },
     "execution_count": 26,
     "metadata": {},
     "output_type": "execute_result"
    }
   ],
   "source": [
    "# 设定停用词并从文本中去掉停用词\n",
    "# 下载中文停用词表至本地目录下/root/Jupyter/Data_cleaning/stopWord中，下载地址:https://github.com/goto456/stopwords/\n",
    "if not os.path.exists('stopWord.json'):\n",
    "    stopWordC=\"\"\n",
    "    with open(\"cn_stopwords.txt\",\"r\",encoding='utf-8') as f:\n",
    "        stopWordC = f.read()\n",
    "        #print(stopWord)\n",
    "    #stopWord = requests.get(\"https://raw.githubusercontent.com/goto456/stopwords/master/cn_stopwords.txt\")\n",
    "    with open(\"stopWord.json\", \"wb\") as f1:\n",
    "         f1.write(stopWordC)\n",
    "# 读取下载的停用词表，并保存在列表中\n",
    "#with open(\"stopWord.json\",\"r\",encoding='utf-8') as f:\n",
    "#    stopWords = f.read().split(\"\\n\")  \n",
    "with open(\"cn_stopwords.txt\",\"r\",encoding='utf-8') as f:\n",
    "    stopWords = f.read().split(\"\\n\")  \n",
    "    \n",
    "# 去除停用词\n",
    "def rm_stop_word(wordList):\n",
    "    # your code, remove stop words\n",
    "    # TODO\n",
    "    #outstr = ''\n",
    "    # 去停用词\n",
    "    #for word in wordList:\n",
    "       # if word not in stopWords:\n",
    "           # if word != '\\t':\n",
    "                #outstr += word\n",
    "                #outstr += \" \"\n",
    "    #return outstr\n",
    "    filtered_words = [word for word in wordList if word not in stopWords]\n",
    "    return filtered_words\n",
    "    #return \" \".join(filtered_words)\n",
    "#这行代码中.progress_apply()函数的作用等同于.apply()函数的作用，只是写成.progress_apply()函数才能被tqdm包监控从而输出进度条。\n",
    "data['comment_processed'] = data['comment_processed'].progress_apply(rm_stop_word)\n",
    "# 观察新的数据的格式\n",
    "data.head()"
   ]
  },
  {
   "cell_type": "code",
   "execution_count": 27,
   "id": "2dac2fb2-9fbc-47b1-93bb-7b81ed35212e",
   "metadata": {},
   "outputs": [
    {
     "name": "stderr",
     "output_type": "stream",
     "text": [
      "apply: 100%|██████████████████████████████████████████████████████████████████████████████████████████████████████████████████████████████████████████████████████████████████████████████████████| 7449/7449 [00:00<00:00, 158914.42it/s]\n"
     ]
    },
    {
     "data": {
      "text/html": [
       "<div>\n",
       "<style scoped>\n",
       "    .dataframe tbody tr th:only-of-type {\n",
       "        vertical-align: middle;\n",
       "    }\n",
       "\n",
       "    .dataframe tbody tr th {\n",
       "        vertical-align: top;\n",
       "    }\n",
       "\n",
       "    .dataframe thead th {\n",
       "        text-align: right;\n",
       "    }\n",
       "</style>\n",
       "<table border=\"1\" class=\"dataframe\">\n",
       "  <thead>\n",
       "    <tr style=\"text-align: right;\">\n",
       "      <th></th>\n",
       "      <th>评论</th>\n",
       "      <th>评分</th>\n",
       "      <th>label</th>\n",
       "      <th>comment_processed</th>\n",
       "    </tr>\n",
       "  </thead>\n",
       "  <tbody>\n",
       "    <tr>\n",
       "      <th>0</th>\n",
       "      <td>您没有填写内容，默认好评</td>\n",
       "      <td>1</td>\n",
       "      <td>0</td>\n",
       "      <td>没有 填写内容 默认 好评</td>\n",
       "    </tr>\n",
       "    <tr>\n",
       "      <th>1</th>\n",
       "      <td>充电慢，快递员也不好说话！</td>\n",
       "      <td>1</td>\n",
       "      <td>0</td>\n",
       "      <td>充电 慢 快递 员 不好 说话</td>\n",
       "    </tr>\n",
       "    <tr>\n",
       "      <th>2</th>\n",
       "      <td>价位比实体店还贵一百多</td>\n",
       "      <td>1</td>\n",
       "      <td>0</td>\n",
       "      <td>价位 实体店 还贵 一百多</td>\n",
       "    </tr>\n",
       "    <tr>\n",
       "      <th>3</th>\n",
       "      <td>说是送蓝牙耳机，结果也没送，问客服说送完了。</td>\n",
       "      <td>1</td>\n",
       "      <td>0</td>\n",
       "      <td>说 送 蓝牙 耳机 没 送 问 客服 说 送 完</td>\n",
       "    </tr>\n",
       "    <tr>\n",
       "      <th>4</th>\n",
       "      <td>刚买就便宜120，又没价格保护</td>\n",
       "      <td>1</td>\n",
       "      <td>0</td>\n",
       "      <td>刚买 便宜 没 价格 保护</td>\n",
       "    </tr>\n",
       "  </tbody>\n",
       "</table>\n",
       "</div>"
      ],
      "text/plain": [
       "                       评论  评分  label          comment_processed\n",
       "0            您没有填写内容，默认好评   1      0             没有 填写内容 默认 好评 \n",
       "1           充电慢，快递员也不好说话！   1      0           充电 慢 快递 员 不好 说话 \n",
       "2             价位比实体店还贵一百多   1      0             价位 实体店 还贵 一百多 \n",
       "3  说是送蓝牙耳机，结果也没送，问客服说送完了。   1      0  说 送 蓝牙 耳机 没 送 问 客服 说 送 完 \n",
       "4         刚买就便宜120，又没价格保护   1      0             刚买 便宜 没 价格 保护 "
      ]
     },
     "execution_count": 27,
     "metadata": {},
     "output_type": "execute_result"
    }
   ],
   "source": [
    "# 去除低频词, 去掉词频小于10的单词，并把结果存放在data['comment_processed']里\n",
    "from collections import Counter\n",
    "list_set = []\n",
    "for i in range(len(data)):\n",
    "    for j in data.iloc[i]['comment_processed']: \n",
    "        list_set.extend(j)\n",
    "        \n",
    "words_count = Counter(list_set)\n",
    " \n",
    "min_threshold=10\n",
    "my_dict = {k: v for k, v in words_count.items() if v < min_threshold}\n",
    "filteredA = Counter(my_dict)\n",
    " \n",
    "# 去除低频词\n",
    "def rm_low_frequence_word(wordList):\n",
    "    # your code, remove stop words\n",
    "    # TODO\n",
    "    outstr = ''\n",
    "    for word in wordList:\n",
    "        if word not in filteredA:\n",
    "            if word != '\\t':\n",
    "                outstr += word\n",
    "                outstr += \" \"\n",
    "    #filtered_words = [word for word in wordList if word not in filteredA]\n",
    "    return outstr\n",
    "                      \n",
    "#这行代码中.progress_apply()函数的作用等同于.apply()函数的作用，只是写成.progress_apply()函数才能被tqdm包监控从而输出进度条。\n",
    "data['comment_processed'] = data['comment_processed'].progress_apply(rm_low_frequence_word)\n",
    "data.head()"
   ]
  },
  {
   "cell_type": "code",
   "execution_count": 29,
   "id": "8c366625-3be5-4701-8f31-c13fa8ad84fe",
   "metadata": {},
   "outputs": [],
   "source": [
    "#index参数设置为False表示不保存行索引,header设置为False表示不保存列索引\n",
    "data.to_csv(\"JDcontents_vivo_Cleaned_data.csv\",index=False,header=True,encoding=\"utf-8\")"
   ]
  },
  {
   "cell_type": "code",
   "execution_count": 30,
   "id": "3db70f32-5bde-445a-aa5e-87c627288736",
   "metadata": {},
   "outputs": [
    {
     "name": "stdout",
     "output_type": "stream",
     "text": [
      "<class 'pandas.core.frame.DataFrame'>\n",
      "RangeIndex: 7449 entries, 0 to 7448\n",
      "Data columns (total 4 columns):\n",
      " #   Column             Non-Null Count  Dtype \n",
      "---  ------             --------------  ----- \n",
      " 0   评论                 7449 non-null   object\n",
      " 1   评分                 7449 non-null   int64 \n",
      " 2   label              7449 non-null   int64 \n",
      " 3   comment_processed  7428 non-null   object\n",
      "dtypes: int64(2), object(2)\n",
      "memory usage: 232.9+ KB\n",
      "None\n",
      "(7449, 4)\n",
      "Index(['评论', '评分', 'label', 'comment_processed'], dtype='object')\n"
     ]
    }
   ],
   "source": [
    "#读取数据\n",
    "#路径是各自数据路径的存放地址  \n",
    "data = pd.read_csv('JDcontents_vivo_Cleaned_data.csv')\n",
    "#输出数据的一些相关信息\n",
    "print(data.info())\n",
    "#看数据形状 (行数, 列数)\n",
    "print(data.shape)\n",
    "# 列标签 <Index>\n",
    "print(data.columns )"
   ]
  },
  {
   "cell_type": "code",
   "execution_count": 31,
   "id": "b25aa44a-eb6b-4cbb-b391-6291a6539154",
   "metadata": {},
   "outputs": [],
   "source": [
    "#精简列\n",
    "data.drop([\"评论\",\"评分\"],axis=1,inplace=True)\n",
    "#删除空值\n",
    "data = data.dropna(axis=0,how='any')\n",
    "#重新保存\n",
    "data.to_csv(\"JDcontents_vivo_Cleaned_data.csv\",index=False,header=True,encoding=\"utf-8\")"
   ]
  },
  {
   "cell_type": "code",
   "execution_count": 32,
   "id": "2b4ca8e2-aabd-40ab-93da-baa748f6cdd0",
   "metadata": {},
   "outputs": [
    {
     "data": {
      "text/plain": [
       "label\n",
       "4    3204\n",
       "0    2187\n",
       "2    1443\n",
       "1     582\n",
       "3      12\n",
       "Name: count, dtype: int64"
      ]
     },
     "execution_count": 32,
     "metadata": {},
     "output_type": "execute_result"
    }
   ],
   "source": [
    "#统计评分的分布\n",
    "data[\"label\"].value_counts()"
   ]
  },
  {
   "cell_type": "code",
   "execution_count": 34,
   "id": "9545f73f-4eb7-4daa-aa57-146e496974bc",
   "metadata": {},
   "outputs": [
    {
     "data": {
      "image/png": "[encoded data removed]",
      "text/plain": [
       "<Figure size 640x480 with 1 Axes>"
      ]
     },
     "metadata": {},
     "output_type": "display_data"
    }
   ],
   "source": [
    "#生成评分-数量直方图\n",
    "import matplotlib.pyplot as plt\n",
    "data['label'].value_counts().plot(kind='bar')\n",
    "plt.title('count')\n",
    "plt.xlabel(\"category\")\n",
    "#plt.savefig('./category.png')\n",
    "plt.show()"
   ]
  },
  {
   "cell_type": "code",
   "execution_count": 36,
   "id": "9a4f430e-ff40-48f8-82b3-dc374ad95086",
   "metadata": {},
   "outputs": [
    {
     "name": "stdout",
     "output_type": "stream",
     "text": [
      "count    7428.000000\n",
      "mean       19.494615\n",
      "std        17.145183\n",
      "min         2.000000\n",
      "25%         8.000000\n",
      "50%        14.000000\n",
      "75%        26.000000\n",
      "max       171.000000\n",
      "Name: text_len, dtype: float64\n"
     ]
    }
   ],
   "source": [
    "#统计单词的个数来得到每个句子的长度\n",
    "data['text_len'] = data['comment_processed'].apply(lambda x: len(x.split(' ')))\n",
    "print(data['text_len'].describe())"
   ]
  },
  {
   "cell_type": "code",
   "execution_count": 37,
   "id": "275e31a5-1366-4504-a1ed-2a4c549a21db",
   "metadata": {},
   "outputs": [
    {
     "data": {
      "image/png": "[encoded data removed]",
      "text/plain": [
       "<Figure size 640x480 with 1 Axes>"
      ]
     },
     "metadata": {},
     "output_type": "display_data"
    }
   ],
   "source": [
    "_ = plt.hist(data['text_len'], bins=200)\n",
    "plt.xlabel('Text char count')\n",
    "plt.title(\"Histogram of char count\")\n",
    "#plt.savefig('./text_chart_count.png')\n",
    "plt.show()"
   ]
  },
  {
   "cell_type": "code",
   "execution_count": null,
   "id": "3735c864-b79b-4afb-b4ee-12164a25dbc1",
   "metadata": {},
   "outputs": [],
   "source": []
  }
 ],
 "metadata": {
  "kernelspec": {
   "display_name": "Python 3 (ipykernel)",
   "language": "python",
   "name": "python3"
  },
  "language_info": {
   "codemirror_mode": {
    "name": "ipython",
    "version": 3
   },
   "file_extension": ".py",
   "mimetype": "text/x-python",
   "name": "python",
   "nbconvert_exporter": "python",
   "pygments_lexer": "ipython3",
   "version": "3.8.18"
  }
 },
 "nbformat": 4,
 "nbformat_minor": 5
}
